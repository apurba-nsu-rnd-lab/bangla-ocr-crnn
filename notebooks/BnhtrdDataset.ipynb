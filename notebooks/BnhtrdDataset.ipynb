{
 "cells": [
  {
   "cell_type": "markdown",
   "metadata": {},
   "source": [
    "# Creating a custom dataset for BNHTRD"
   ]
  },
  {
   "cell_type": "code",
   "execution_count": 29,
   "metadata": {},
   "outputs": [
    {
     "data": {
      "text/plain": [
       "'/home/ec2-user/word_level_ocr/pritom/notebooks'"
      ]
     },
     "execution_count": 29,
     "metadata": {},
     "output_type": "execute_result"
    }
   ],
   "source": [
    "import os\n",
    "from pathlib import Path\n",
    "from contextlib import suppress\n",
    "os.getcwd()"
   ]
  },
  {
   "cell_type": "code",
   "execution_count": 12,
   "metadata": {},
   "outputs": [],
   "source": [
    "import glob, os\n",
    "import pandas as pd"
   ]
  },
  {
   "cell_type": "code",
   "execution_count": 13,
   "metadata": {},
   "outputs": [],
   "source": [
    "BNHTRD_DATASET = \"/home/ec2-user/word_level_ocr/pritom/datasets/handwriting/BN-HTRd/\""
   ]
  },
  {
   "cell_type": "code",
   "execution_count": 14,
   "metadata": {},
   "outputs": [],
   "source": [
    "bnhtrd_words_path = []\n",
    "\n",
    "for file in glob.glob(BNHTRD_DATASET+\"Dataset/*/Words/*/*.[jJ|pP][pP|nN][gG]\"):\n",
    "    bnhtrd_words_path.append(file)"
   ]
  },
  {
   "cell_type": "code",
   "execution_count": 15,
   "metadata": {},
   "outputs": [
    {
     "data": {
      "text/plain": [
       "108147"
      ]
     },
     "execution_count": 15,
     "metadata": {},
     "output_type": "execute_result"
    }
   ],
   "source": [
    "len(bnhtrd_words_path)"
   ]
  },
  {
   "cell_type": "code",
   "execution_count": 17,
   "metadata": {},
   "outputs": [
    {
     "data": {
      "text/plain": [
       "'1_1_10_1'"
      ]
     },
     "execution_count": 17,
     "metadata": {},
     "output_type": "execute_result"
    }
   ],
   "source": [
    "Path(bnhtrd_words_path[0]).stem"
   ]
  },
  {
   "cell_type": "code",
   "execution_count": 18,
   "metadata": {},
   "outputs": [],
   "source": [
    "bnhtrd_word_to_path_dict = {}\n",
    "\n",
    "for path in bnhtrd_words_path:\n",
    "    bnhtrd_word_to_path_dict[Path(path).stem] = path"
   ]
  },
  {
   "cell_type": "code",
   "execution_count": 19,
   "metadata": {},
   "outputs": [
    {
     "data": {
      "text/plain": [
       "108147"
      ]
     },
     "execution_count": 19,
     "metadata": {},
     "output_type": "execute_result"
    }
   ],
   "source": [
    "len(bnhtrd_word_to_path_dict)"
   ]
  },
  {
   "cell_type": "code",
   "execution_count": 23,
   "metadata": {},
   "outputs": [],
   "source": [
    "first_subdirs = os.listdir(BNHTRD_DATASET+\"Dataset\")"
   ]
  },
  {
   "cell_type": "code",
   "execution_count": 24,
   "metadata": {},
   "outputs": [
    {
     "data": {
      "text/plain": [
       "150"
      ]
     },
     "execution_count": 24,
     "metadata": {},
     "output_type": "execute_result"
    }
   ],
   "source": [
    "len(first_subdirs)"
   ]
  },
  {
   "cell_type": "code",
   "execution_count": 30,
   "metadata": {},
   "outputs": [
    {
     "name": "stdout",
     "output_type": "stream",
     "text": [
      "Folder  |  Images | Labels\n",
      "Writer 101 : 916 919\n",
      "Writer 114 : 387 386\n",
      "Writer 17 : 793 0\n",
      "Writer 30 : 1357 1355\n",
      "Writer 34 : 1422 746\n"
     ]
    }
   ],
   "source": [
    "print(\"Folder  |  Images | Labels\")\n",
    "\n",
    "for di in first_subdirs:\n",
    "    files = []\n",
    "    for file in glob.glob(BNHTRD_DATASET+\"/Dataset/\"+di+\"/Words/*/*.[jJ|pP][pP|nN][gG]\"):\n",
    "        files.append(file)\n",
    "            \n",
    "    ann_file = glob.glob(BNHTRD_DATASET+\"/Dataset/\"+di+\"*/*.xlsx\")\n",
    "    try:\n",
    "        df = pd.read_excel(list(ann_file)[0])\n",
    "    except ValueError:\n",
    "        with suppress(ValueError):\n",
    "            df = pd.read_excel(list(ann_file)[0])\n",
    "    \n",
    "    if len(files) != len(df):\n",
    "        print(\"Writer\", di, \":\", len(files), len(df))\n"
   ]
  },
  {
   "cell_type": "code",
   "execution_count": 10,
   "metadata": {},
   "outputs": [
    {
     "data": {
      "text/plain": [
       "107354"
      ]
     },
     "execution_count": 10,
     "metadata": {},
     "output_type": "execute_result"
    }
   ],
   "source": [
    "total = 0\n",
    "for ann_file in glob.glob(BNHTRD_DATASET+\"*/*.xlsx\"):\n",
    "    df = pd.read_excel(ann_file)\n",
    "    \n",
    "    total+=len(df)\n",
    "    \n",
    "total"
   ]
  },
  {
   "cell_type": "code",
   "execution_count": 24,
   "metadata": {},
   "outputs": [
    {
     "data": {
      "text/html": [
       "<div>\n",
       "<style scoped>\n",
       "    .dataframe tbody tr th:only-of-type {\n",
       "        vertical-align: middle;\n",
       "    }\n",
       "\n",
       "    .dataframe tbody tr th {\n",
       "        vertical-align: top;\n",
       "    }\n",
       "\n",
       "    .dataframe thead th {\n",
       "        text-align: right;\n",
       "    }\n",
       "</style>\n",
       "<table border=\"1\" class=\"dataframe\">\n",
       "  <thead>\n",
       "    <tr style=\"text-align: right;\">\n",
       "      <th></th>\n",
       "      <th>Id</th>\n",
       "      <th>Word</th>\n",
       "    </tr>\n",
       "  </thead>\n",
       "  <tbody>\n",
       "    <tr>\n",
       "      <th>0</th>\n",
       "      <td>109_1_1_1</td>\n",
       "      <td>করোনা</td>\n",
       "    </tr>\n",
       "    <tr>\n",
       "      <th>1</th>\n",
       "      <td>109_1_1_2</td>\n",
       "      <td>ভাইরাস</td>\n",
       "    </tr>\n",
       "    <tr>\n",
       "      <th>2</th>\n",
       "      <td>109_1_1_3</td>\n",
       "      <td>আপডেট</td>\n",
       "    </tr>\n",
       "    <tr>\n",
       "      <th>3</th>\n",
       "      <td>109_1_1_4</td>\n",
       "      <td>:</td>\n",
       "    </tr>\n",
       "    <tr>\n",
       "      <th>4</th>\n",
       "      <td>109_1_1_5</td>\n",
       "      <td>ম্যাপ</td>\n",
       "    </tr>\n",
       "  </tbody>\n",
       "</table>\n",
       "</div>"
      ],
      "text/plain": [
       "          Id    Word\n",
       "0  109_1_1_1   করোনা\n",
       "1  109_1_1_2  ভাইরাস\n",
       "2  109_1_1_3   আপডেট\n",
       "3  109_1_1_4       :\n",
       "4  109_1_1_5   ম্যাপ"
      ]
     },
     "execution_count": 24,
     "metadata": {},
     "output_type": "execute_result"
    }
   ],
   "source": [
    "df.head()"
   ]
  },
  {
   "cell_type": "code",
   "execution_count": 11,
   "metadata": {},
   "outputs": [
    {
     "name": "stdout",
     "output_type": "stream",
     "text": [
      "Folder  |  Images | Labels\n",
      "Total Images, Labels: 108147 108147\n"
     ]
    }
   ],
   "source": [
    "import os\n",
    "from pathlib import Path\n",
    "import glob\n",
    "import pandas as pd\n",
    "\n",
    "\n",
    "BNHTRD_DATASET = \"/home/ec2-user/word_level_ocr/sabbir/datasets/BN-HTRd/\"\n",
    "\n",
    "total_labels = 0\n",
    "total_files = 0\n",
    "    \n",
    "print(\"Folder  |  Images | Labels\")\n",
    "\n",
    "first_subdirs = os.listdir(BNHTRD_DATASET)\n",
    "\n",
    "for di in first_subdirs:\n",
    "    files = []\n",
    "    for file in glob.glob(BNHTRD_DATASET+\"/\"+di+\"/Words/*/*.[jJ|pP][pP|nN][gG]\"):\n",
    "        files.append(file)\n",
    "        \n",
    "    ann_file = glob.glob(BNHTRD_DATASET+\"/\"+di+\"/*.xlsx\")\n",
    "    \n",
    "    if di == \"17\":\n",
    "        # 17.xlsx mistakenly has two sheets, and we need to specify which one to open\n",
    "        df = pd.read_excel(list(ann_file)[0], sheet_name=\"Sheet1\")\n",
    "    else:\n",
    "        df = pd.read_excel(list(ann_file)[0])\n",
    "     \n",
    "    if di==\"101\":\n",
    "        # 101.xlsx has some trailing Nan value rows\n",
    "        df = df[df['Id'].notna()]\n",
    "    elif di==\"60\":\n",
    "        df = df.rename(columns={'ID': 'Id', 'word': 'Word'})\n",
    "    elif di==\"30\":\n",
    "        # Add missing labels\n",
    "        df.loc[len(df.index)] = ['30_6_2_3 (1)', 'নির্ধারকরা'] \n",
    "        df.loc[len(df.index)] = ['30_6_2_4 (1)', 'বোঝান'] \n",
    "        # Edit duplicate label\n",
    "        df.loc[905] = ['30_6_6_7', 'এশিয়ায়'] \n",
    "    elif di==\"114\":\n",
    "        # Edit duplicate label\n",
    "        df.loc[905] = ['30_6_6_7', 'দেখা'] \n",
    "        \n",
    "    \n",
    "    total_labels += df.shape[0]\n",
    "    total_files += len(files)\n",
    "    \n",
    "    if len(files) != df.shape[0]:\n",
    "        print(\"Writer\", di, \":\", len(files), df.shape[0])\n",
    "\n",
    "print(\"Total Images, Labels:\", total_files, total_labels)"
   ]
  },
  {
   "cell_type": "code",
   "execution_count": 126,
   "metadata": {},
   "outputs": [
    {
     "data": {
      "text/plain": [
       "{'114_1_3_2', '114_1_8_7'}"
      ]
     },
     "execution_count": 126,
     "metadata": {},
     "output_type": "execute_result"
    }
   ],
   "source": [
    "import csv\n",
    "\n",
    "test = 114\n",
    "\n",
    "df_test = pd.read_excel(BNHTRD_DATASET+\"/\"+str(test)+\"/\"+str(test)+\".xlsx\", index=False)\n",
    "\n",
    "label_names = set(df_test.Id)\n",
    "\n",
    "files = []\n",
    "for file in glob.glob(BNHTRD_DATASET+\"/114/Words/*/*.[jJ|pP][pP|nN][gG]\"):\n",
    "    files.append(file)\n",
    "files = set([Path(file).stem for file in files])\n",
    "\n",
    "files.difference(label_names)"
   ]
  },
  {
   "cell_type": "code",
   "execution_count": 79,
   "metadata": {},
   "outputs": [
    {
     "data": {
      "text/plain": [
       "Index(['ID', 'word'], dtype='object')"
      ]
     },
     "execution_count": 79,
     "metadata": {},
     "output_type": "execute_result"
    }
   ],
   "source": [
    "df_test.columns"
   ]
  },
  {
   "cell_type": "code",
   "execution_count": 36,
   "metadata": {},
   "outputs": [
    {
     "data": {
      "text/plain": [
       "108144"
      ]
     },
     "execution_count": 36,
     "metadata": {},
     "output_type": "execute_result"
    }
   ],
   "source": [
    "107351 + 793"
   ]
  },
  {
   "cell_type": "markdown",
   "metadata": {},
   "source": [
    "# BNHTRD Dataset"
   ]
  },
  {
   "cell_type": "code",
   "execution_count": 8,
   "metadata": {},
   "outputs": [],
   "source": [
    "import torch\n",
    "from torch.utils.data import Dataset\n",
    "\n",
    "import glob\n",
    "import os\n",
    "from pathlib import Path\n",
    "\n",
    "import cv2\n",
    "import numpy as np\n",
    "from collections import OrderedDict\n",
    "import pandas as pd\n",
    "\n",
    "import re\n",
    "\n",
    "BNHTRD_DATASET = \"/home/ec2-user/word_level_ocr/sabbir/datasets/BN-HTRd/\""
   ]
  },
  {
   "cell_type": "code",
   "execution_count": 9,
   "metadata": {},
   "outputs": [],
   "source": [
    "class BnhtrdWordDataset(Dataset):\n",
    "    \n",
    "    def __init__(self, root_dir, transform=None):\n",
    "        self.root_dir = root_dir\n",
    "        file_paths = glob.glob(root_dir+\"/*/Words/*/*.[jJ|pP][pP|nN][gG]\")\n",
    "        self.file_name_to_path_dict = {Path(file_path).stem:file_path for file_path in file_paths}\n",
    "        \n",
    "        # for file_path in file_paths:\n",
    "        #     file_name = Path(file_path).stem\n",
    "        #     if re.match(r\"^[0-9]+_[0-9]+_[0-9]+_[0-9]+$\", file_name) is None:\n",
    "        #         print(file_name)\n",
    "        \n",
    "        self.label_dict = self._create_label_dict(root_dir)\n",
    "        self.file_name_list = list(self.label_dict.keys())\n",
    "        \n",
    "        self.inp_h = 32\n",
    "        self.inp_w = 128\n",
    "        self.transform = transform\n",
    "        \n",
    "    def _create_label_dict(self, root_dir):\n",
    "        \n",
    "        annotation_files = []\n",
    "        \n",
    "        for subdir in os.listdir(root_dir):\n",
    "            ann_file = glob.glob(root_dir+\"/\"+subdir+\"/*.xlsx\")\n",
    "            \n",
    "            if subdir == \"17\":\n",
    "                # 17.xlsx mistakenly has two sheets, and we need to specify which one to open\n",
    "                df = pd.read_excel(list(ann_file)[0], sheet_name=\"Sheet1\")\n",
    "            else:\n",
    "                df = pd.read_excel(list(ann_file)[0])\n",
    "\n",
    "            if subdir==\"101\":\n",
    "                # 101.xlsx has some trailing Nan value rows\n",
    "                df = df[df['Id'].notna()]\n",
    "            elif subdir==\"60\":\n",
    "                df = df.rename(columns={'ID': 'Id', 'word': 'Word'})\n",
    "            \n",
    "            annotation_files.append(df)\n",
    "        \n",
    "        merged_dataframe = pd.concat(annotation_files)\n",
    "        # Remove duplicate entries\n",
    "        merged_dataframe = merged_dataframe.drop_duplicates(subset='Id', keep=\"first\")\n",
    "        \n",
    "        merged_dict = dict(zip(merged_dataframe.Id, merged_dataframe.Word))\n",
    "        \n",
    "        # Some file names do not match with their equivalent in the excel files\n",
    "        # We ignore those files\n",
    "        cleaned_dict = {k:str(v) for (k, v) in merged_dict.items() if \\\n",
    "                        re.match(r\"^[0-9]+_[0-9]+_[0-9]+_[0-9]+$\", k) is not None \\\n",
    "                       and k in self.file_name_to_path_dict.keys()}\n",
    "        \n",
    "        return cleaned_dict\n",
    "            \n",
    "        \n",
    "    def __len__(self):\n",
    "        return len(self.label_dict)\n",
    "        \n",
    "    def __getitem__(self, idx):\n",
    "        file_name = self.file_name_list[idx]\n",
    "        file_path = self.file_name_to_path_dict[file_name]\n",
    "        \n",
    "        label = self.label_dict[file_name]\n",
    "        \n",
    "        image = cv2.imread(file_path)\n",
    "        image = cv2.cvtColor(image, cv2.COLOR_BGR2GRAY)\n",
    "        img_h, img_w = image.shape\n",
    "        image = cv2.resize(image, (0,0), fx=self.inp_w / img_w, fy=self.inp_h / img_h, interpolation=cv2.INTER_CUBIC)\n",
    "        image = np.reshape(image, (self.inp_h, self.inp_w, 1))\n",
    "        \n",
    "        if self.transform is not None:\n",
    "            image = self.transform(image = image)[\"image\"]\n",
    "            return image, file_name, idx\n",
    "        else:\n",
    "            image = image.transpose(2, 0, 1)\n",
    "            return image, label, idx\n",
    "        "
   ]
  },
  {
   "cell_type": "code",
   "execution_count": 10,
   "metadata": {},
   "outputs": [],
   "source": [
    "bnhtrd = BnhtrdWordDataset(BNHTRD_DATASET)"
   ]
  },
  {
   "cell_type": "code",
   "execution_count": 11,
   "metadata": {
    "scrolled": true,
    "tags": []
   },
   "outputs": [
    {
     "data": {
      "text/plain": [
       "108147"
      ]
     },
     "execution_count": 11,
     "metadata": {},
     "output_type": "execute_result"
    }
   ],
   "source": [
    "file_path = bnhtrd.file_name_to_path_dict\n",
    "len(file_path)"
   ]
  },
  {
   "cell_type": "code",
   "execution_count": 12,
   "metadata": {
    "scrolled": true,
    "tags": []
   },
   "outputs": [
    {
     "data": {
      "text/plain": [
       "107090"
      ]
     },
     "execution_count": 12,
     "metadata": {},
     "output_type": "execute_result"
    }
   ],
   "source": [
    "labels = bnhtrd.label_dict\n",
    "len(labels)"
   ]
  },
  {
   "cell_type": "code",
   "execution_count": 50,
   "metadata": {},
   "outputs": [],
   "source": [
    "v1=\"সংসদ9\"\n",
    "lol = \"ABCDEFGHIJKLMNOPQRSTUVWXYZabcdefghijklmnopqrstuvwxyz0123456789\\u200d\\u200c\\n ©\"\n",
    "flag=True\n",
    "for i in v1:\n",
    "    if i in lol:\n",
    "        flag=False\n",
    "        break\n",
    "if flag:\n",
    "    print(v1)"
   ]
  },
  {
   "cell_type": "code",
   "execution_count": 14,
   "metadata": {
    "tags": []
   },
   "outputs": [
    {
     "name": "stdout",
     "output_type": "stream",
     "text": [
      "Start copying? YES\n"
     ]
    },
    {
     "name": "stderr",
     "output_type": "stream",
     "text": [
      "100%|██████████| 107090/107090 [08:10<00:00, 218.12it/s]"
     ]
    },
    {
     "name": "stdout",
     "output_type": "stream",
     "text": [
      "Next train filename should start with id: 104504.jpg\n"
     ]
    },
    {
     "name": "stderr",
     "output_type": "stream",
     "text": [
      "\n"
     ]
    }
   ],
   "source": [
    "from shutil import copyfile\n",
    "from tqdm import tqdm\n",
    "\n",
    "# not excluding space as some xlsx label files has space in them. space is removed afterwards using\n",
    "# strip. but this also makes empty labels which are then removed in mod_train and mod_val\n",
    "EXCLUDE_CLASSES = \"ABCDEFGHIJKLMNOPQRSTUVWXYZabcdefghijklmnopqrstuvwxyz0123456789\\u200d\\u200c\\n©\"\n",
    "#v1=সংসদ v2=path\n",
    "DESTINATION_PATH = '/home/ec2-user/word_level_ocr/rakib/datasets/bnhtrd/'\n",
    "if input(\"Start copying?\") == \"YES\":\n",
    "     with open(DESTINATION_PATH + \"all_labels.txt\", \"w\", encoding=\"utf8\") as f:\n",
    "            id=0\n",
    "            for k1,v1 in tqdm(labels.items()):\n",
    "                take_word=True\n",
    "                for k2,v2 in file_path.items():\n",
    "                    if k1==k2:\n",
    "                        for i in v1:\n",
    "                            if i in EXCLUDE_CLASSES:\n",
    "                                take_word=False\n",
    "                                break\n",
    "                        if take_word:\n",
    "                            src=v2\n",
    "                            des_name = \"{}.jpg\".format(id)\n",
    "                            destn = DESTINATION_PATH + \"all/\" + des_name\n",
    "                            f.write(\"{} {}\\n\".format(des_name, v1.strip()))\n",
    "                            copyfile(src, destn)\n",
    "                            id=id+1\n",
    "                            break\n",
    "                        else:\n",
    "                            break\n",
    "            print(f\"Next train filename should start with id: {id}.jpg\")\n",
    "else:\n",
    "    print(\"Not copied\")            "
   ]
  },
  {
   "cell_type": "code",
   "execution_count": 3,
   "metadata": {},
   "outputs": [],
   "source": [
    "from shutil import copyfile\n",
    "import random\n",
    "import glob\n",
    "from tqdm import tqdm "
   ]
  },
  {
   "cell_type": "code",
   "execution_count": 17,
   "metadata": {
    "scrolled": true,
    "tags": []
   },
   "outputs": [
    {
     "data": {
      "text/plain": [
       "(83603, 20901, 104504)"
      ]
     },
     "execution_count": 17,
     "metadata": {},
     "output_type": "execute_result"
    }
   ],
   "source": [
    "# DESTINATION_PATH = '/home/ec2-user/word_level_ocr/rakib/datasets/bnhtrd/'\n",
    "# with open(DESTINATION_PATH + \"all_labels.txt\", \"r\") as f:\n",
    "#     all_labels = f.readlines()\n",
    "\n",
    "# all_labels = [x.strip() for x in all_labels]\n",
    "# random.shuffle(all_labels)\n",
    "# train = all_labels[:round(0.8*len(all_labels))]\n",
    "# val = all_labels[-round(0.2*len(all_labels)):]\n",
    "# len(train), len(val), len(all_labels)"
   ]
  },
  {
   "cell_type": "code",
   "execution_count": 66,
   "metadata": {},
   "outputs": [
    {
     "data": {
      "text/plain": [
       "'101020.jpg প্রবৃদ্ধির'"
      ]
     },
     "execution_count": 66,
     "metadata": {},
     "output_type": "execute_result"
    }
   ],
   "source": [
    "train[38194]"
   ]
  },
  {
   "cell_type": "code",
   "execution_count": 67,
   "metadata": {},
   "outputs": [
    {
     "data": {
      "text/plain": [
       "83571"
      ]
     },
     "execution_count": 67,
     "metadata": {},
     "output_type": "execute_result"
    }
   ],
   "source": [
    "mod_train = []\n",
    "i=0\n",
    "for line in train:\n",
    "    n = line.split()\n",
    "    if not (len(n)<2 or len(n)>2):\n",
    "        mod_train.append(line) \n",
    "len(mod_train)"
   ]
  },
  {
   "cell_type": "code",
   "execution_count": 69,
   "metadata": {},
   "outputs": [
    {
     "data": {
      "text/plain": [
       "20898"
      ]
     },
     "execution_count": 69,
     "metadata": {},
     "output_type": "execute_result"
    }
   ],
   "source": [
    "mod_val = []\n",
    "i=0\n",
    "for line in val:\n",
    "    n = line.split()\n",
    "    if not (len(n)<2 or len(n)>2):\n",
    "        mod_val.append(line) \n",
    "len(mod_val)"
   ]
  },
  {
   "cell_type": "code",
   "execution_count": 20,
   "metadata": {
    "scrolled": true,
    "tags": []
   },
   "outputs": [
    {
     "name": "stdout",
     "output_type": "stream",
     "text": [
      "Start copying? YES\n"
     ]
    },
    {
     "name": "stderr",
     "output_type": "stream",
     "text": [
      "100%|██████████| 83571/83571 [00:19<00:00, 4202.85it/s]"
     ]
    },
    {
     "name": "stdout",
     "output_type": "stream",
     "text": [
      "Next train filename should start with id: 83571.jpg\n"
     ]
    },
    {
     "name": "stderr",
     "output_type": "stream",
     "text": [
      "\n"
     ]
    }
   ],
   "source": [
    "# DESTINATION_PATH = '/home/ec2-user/word_level_ocr/rakib/datasets/bnhtrd_train_val/'\n",
    "# BNHTRD_PATH = '/home/ec2-user/word_level_ocr/rakib/datasets/bnhtrd/'\n",
    "# if input(\"Start copying?\") == \"YES\":\n",
    "#     with open(DESTINATION_PATH + \"train_labels.txt\", \"w\", encoding=\"utf8\") as f:\n",
    "#         id=0\n",
    "#         for line in tqdm(mod_train):\n",
    "#             src_name = line.split()[0]\n",
    "#             word = line.split()[1]\n",
    "#             src = BNHTRD_PATH  + \"all/\" + src_name\n",
    "#             des_name = \"{}.jpg\".format(id)\n",
    "#             destn = DESTINATION_PATH + \"train/\" + des_name\n",
    "#             f.write(\"{} {}\\n\".format(des_name, word))\n",
    "#             copyfile(src,destn)\n",
    "#             id=id+1\n",
    "#         print(f\"Next train filename should start with id: {id}.jpg\")\n",
    "# else:\n",
    "#     print(\"Not copied\")"
   ]
  },
  {
   "cell_type": "code",
   "execution_count": 21,
   "metadata": {},
   "outputs": [
    {
     "name": "stdout",
     "output_type": "stream",
     "text": [
      "Start copying? YES\n"
     ]
    },
    {
     "name": "stderr",
     "output_type": "stream",
     "text": [
      "100%|██████████| 20898/20898 [00:01<00:00, 18585.50it/s]"
     ]
    },
    {
     "name": "stdout",
     "output_type": "stream",
     "text": [
      "Next train filename should start with id: 20898.jpg\n"
     ]
    },
    {
     "name": "stderr",
     "output_type": "stream",
     "text": [
      "\n"
     ]
    }
   ],
   "source": [
    "# DESTINATION_PATH = '/home/ec2-user/word_level_ocr/rakib/datasets/bnhtrd_train_val/'\n",
    "# BNHTRD_PATH = '/home/ec2-user/word_level_ocr/rakib/datasets/bnhtrd/'\n",
    "# if input(\"Start copying?\") == \"YES\":\n",
    "#     with open(DESTINATION_PATH + \"valid_labels.txt\", \"w\", encoding=\"utf8\") as f:\n",
    "#         id=0\n",
    "#         for line in tqdm(mod_val):\n",
    "#             src_name = line.split()[0]\n",
    "#             word = line.split()[1]\n",
    "#             src = BNHTRD_PATH  + \"all/\" + src_name\n",
    "#             des_name = \"{}.jpg\".format(id)\n",
    "#             destn = DESTINATION_PATH + \"valid/\" + des_name\n",
    "#             f.write(\"{} {}\\n\".format(des_name, word))\n",
    "#             copyfile(src,destn)\n",
    "#             id=id+1\n",
    "#         print(f\"Next train filename should start with id: {id}.jpg\")\n",
    "# else:\n",
    "#     print(\"Not copied\")"
   ]
  },
  {
   "cell_type": "code",
   "execution_count": 41,
   "metadata": {},
   "outputs": [
    {
     "data": {
      "text/plain": [
       "(83571, 20898)"
      ]
     },
     "execution_count": 41,
     "metadata": {},
     "output_type": "execute_result"
    }
   ],
   "source": [
    "DESTINATION_PATH = '/home/ec2-user/word_level_ocr/rakib/datasets/bnhtrd_train_val/'\n",
    "with open(DESTINATION_PATH + \"train_labels.txt\", \"r\") as f:\n",
    "    train_labels = f.readlines()\n",
    "train_labels = [x.strip() for x in train_labels]\n",
    "\n",
    "DESTINATION_PATH = '/home/ec2-user/word_level_ocr/rakib/datasets/bnhtrd_train_val/'\n",
    "with open(DESTINATION_PATH + \"valid_labels.txt\", \"r\") as f:\n",
    "    valid_labels = f.readlines()\n",
    "valid_labels = [x.strip() for x in valid_labels]\n",
    "\n",
    "len(train_labels), len(valid_labels)"
   ]
  },
  {
   "cell_type": "code",
   "execution_count": 30,
   "metadata": {},
   "outputs": [
    {
     "name": "stdout",
     "output_type": "stream",
     "text": [
      "Start copying? YES\n"
     ]
    },
    {
     "name": "stderr",
     "output_type": "stream",
     "text": [
      "100%|██████████| 83571/83571 [00:04<00:00, 18465.40it/s]"
     ]
    },
    {
     "name": "stdout",
     "output_type": "stream",
     "text": [
      "Next train filename should start with id: 83571.jpg\n"
     ]
    },
    {
     "name": "stderr",
     "output_type": "stream",
     "text": [
      "\n"
     ]
    }
   ],
   "source": [
    "DESTINATION_PATH = '/home/ec2-user/word_level_ocr/rakib/datasets/bnhtrd_all/'\n",
    "BNHTRD_PATH = '/home/ec2-user/word_level_ocr/rakib/datasets/bnhtrd_train_val/'\n",
    "if input(\"Start copying?\") == \"YES\":\n",
    "    with open(DESTINATION_PATH + \"all_labels.txt\", \"w\", encoding=\"utf8\") as f:\n",
    "        id=0\n",
    "        for line in tqdm(train_labels):\n",
    "            src_name = line.split()[0]\n",
    "            word = line.split()[1]\n",
    "            src = BNHTRD_PATH  + \"train/\" + src_name\n",
    "            des_name = \"{}.jpg\".format(id)\n",
    "            destn = DESTINATION_PATH + \"all/\" + des_name\n",
    "            f.write(\"{} {}\\n\".format(des_name, word))\n",
    "            copyfile(src,destn)\n",
    "            id=id+1\n",
    "        print(f\"Next train filename should start with id: {id}.jpg\")\n",
    "else:\n",
    "    print(\"Not copied\")"
   ]
  },
  {
   "cell_type": "code",
   "execution_count": 31,
   "metadata": {},
   "outputs": [
    {
     "name": "stdout",
     "output_type": "stream",
     "text": [
      "Start copying? YES\n"
     ]
    },
    {
     "name": "stderr",
     "output_type": "stream",
     "text": [
      "100%|██████████| 20898/20898 [00:01<00:00, 18342.14it/s]"
     ]
    },
    {
     "name": "stdout",
     "output_type": "stream",
     "text": [
      "Next train filename should start with id: 104469.jpg\n"
     ]
    },
    {
     "name": "stderr",
     "output_type": "stream",
     "text": [
      "\n"
     ]
    }
   ],
   "source": [
    "DESTINATION_PATH = '/home/ec2-user/word_level_ocr/rakib/datasets/bnhtrd_all/'\n",
    "BNHTRD_PATH = '/home/ec2-user/word_level_ocr/rakib/datasets/bnhtrd_train_val/'\n",
    "if input(\"Start copying?\") == \"YES\":\n",
    "    with open(DESTINATION_PATH + \"all_labels.txt\", \"a\", encoding=\"utf8\") as f:\n",
    "        id=83571\n",
    "        for line in tqdm(valid_labels):\n",
    "            src_name = line.split()[0]\n",
    "            word = line.split()[1]\n",
    "            src = BNHTRD_PATH  + \"valid/\" + src_name\n",
    "            des_name = \"{}.jpg\".format(id)\n",
    "            destn = DESTINATION_PATH + \"all/\" + des_name\n",
    "            f.write(\"{} {}\\n\".format(des_name, word))\n",
    "            copyfile(src,destn)\n",
    "            id=id+1\n",
    "        print(f\"Next train filename should start with id: {id}.jpg\")\n",
    "else:\n",
    "    print(\"Not copied\")"
   ]
  },
  {
   "cell_type": "code",
   "execution_count": 36,
   "metadata": {},
   "outputs": [
    {
     "data": {
      "text/plain": [
       "104469"
      ]
     },
     "execution_count": 36,
     "metadata": {},
     "output_type": "execute_result"
    }
   ],
   "source": [
    "DESTINATION_PATH = '/home/ec2-user/word_level_ocr/rakib/datasets/bnhtrd_all/'\n",
    "with open(DESTINATION_PATH + \"all_labels.txt\", \"r\") as f:\n",
    "    all_labels = f.readlines()\n",
    "all_labels = [x.strip() for x in all_labels]\n",
    "len(all_labels)"
   ]
  },
  {
   "cell_type": "code",
   "execution_count": 72,
   "metadata": {
    "scrolled": true,
    "tags": []
   },
   "outputs": [
    {
     "data": {
      "text/plain": [
       "83571"
      ]
     },
     "execution_count": 72,
     "metadata": {},
     "output_type": "execute_result"
    }
   ],
   "source": [
    "# DESTINATION_PATH = '/home/ec2-user/word_level_ocr/rakib/datasets/bnhtrd_train_val/'\n",
    "# a = glob.glob(DESTINATION_PATH + \"train/*.jpg\")\n",
    "# # import os\n",
    "# # a = sorted(os.listdir(DESTINATION_PATH + \"train/\"))\n",
    "# # for i in a:\n",
    "# #     print(i)\n",
    "# #     print(int(i.split('.')[0]))\n",
    "# # # b = sorted(a, key=lambda x: int(x.split('.')[0]))\n",
    "# len(a)"
   ]
  },
  {
   "cell_type": "code",
   "execution_count": 102,
   "metadata": {},
   "outputs": [
    {
     "data": {
      "text/plain": [
       "array([[[224, 224, 224, ..., 223, 225, 225],\n",
       "        [224, 224, 224, ..., 223, 224, 224],\n",
       "        [224, 224, 224, ..., 224, 224, 224],\n",
       "        ...,\n",
       "        [223, 223, 223, ..., 224, 224, 224],\n",
       "        [224, 224, 224, ..., 222, 224, 225],\n",
       "        [224, 224, 224, ..., 225, 224, 222]]], dtype=uint8)"
      ]
     },
     "execution_count": 102,
     "metadata": {},
     "output_type": "execute_result"
    }
   ],
   "source": [
    "bnhtrd[0][0]"
   ]
  },
  {
   "cell_type": "code",
   "execution_count": 103,
   "metadata": {},
   "outputs": [
    {
     "data": {
      "image/png": "[encoded data removed]",
      "text/plain": [
       "<Figure size 432x288 with 1 Axes>"
      ]
     },
     "metadata": {
      "needs_background": "light"
     },
     "output_type": "display_data"
    }
   ],
   "source": [
    "from matplotlib import pyplot as plt\n",
    "plt.imshow(bnhtrd[0][0][0], interpolation='nearest')\n",
    "plt.show()"
   ]
  },
  {
   "cell_type": "code",
   "execution_count": 104,
   "metadata": {},
   "outputs": [
    {
     "data": {
      "text/plain": [
       "107090"
      ]
     },
     "execution_count": 104,
     "metadata": {},
     "output_type": "execute_result"
    }
   ],
   "source": [
    "errors=0\n",
    "for i in range(len(bnhtrd)):\n",
    "    errors+=1\n",
    "    data=bnhtrd[i]\n",
    "\n",
    "errors"
   ]
  },
  {
   "cell_type": "markdown",
   "metadata": {},
   "source": [
    "## Investigating character labels in the usable images"
   ]
  },
  {
   "cell_type": "code",
   "execution_count": 105,
   "metadata": {},
   "outputs": [],
   "source": [
    "def normalize_word(word):\n",
    "\n",
    "    if 'ো' in word: word = word.replace('ো', 'ো')\n",
    "    \n",
    "    if 'ৗ' in word:    \n",
    "        if 'ৌ' in word: word = word.replace('ৌ', 'ৌ') \n",
    "        else: word = word.replace('ৗ', 'ী') # 'ৗ' without 'ে' is replaced by 'ী'\n",
    "    \n",
    "    if '়' in word:\n",
    "        if 'ব়' in word: word = word.replace('ব়', 'র')\n",
    "        if 'য়' in word: word = word.replace('য়', 'য়')\n",
    "        if 'ড়' in word: word = word.replace('ড়', 'ড়')\n",
    "        if 'ঢ়' in word: word = word.replace('ঢ়', 'ঢ়')\n",
    "        if '়' in word: word = word.replace('়', '') # discard any other '়' without 'ব'/'য'/'ড'/'ঢ'\n",
    "        \n",
    "    # visually similar '৷' (Bengali Currency Numerator Four) is replaced by '।' (Devanagari Danda)\n",
    "    if '৷' in word: word = word.replace('৷', '।')\n",
    "    \n",
    "    return word"
   ]
  },
  {
   "cell_type": "code",
   "execution_count": 106,
   "metadata": {},
   "outputs": [],
   "source": [
    "# Keep Consonant Clusters Intact\n",
    "def extract_graphemes(word):\n",
    "    \n",
    "    forms_cluster = {'ক': ['ক', 'ট', 'ত', 'ন', 'ব', 'ম', 'র', 'ল', 'ষ', 'স'],\n",
    "                     'গ': ['গ', 'ধ', 'ন', 'ব', 'ম', 'ল'],\n",
    "                     'ঘ': ['ন'],\n",
    "                     'ঙ': ['ক', 'খ', 'গ', 'ঘ', 'ম'],\n",
    "                     'চ': ['চ', 'ছ', 'ঞ'],\n",
    "                     'জ': ['জ', 'ঝ', 'ঞ', 'ব'],\n",
    "                     'ঞ': ['চ', 'ছ', 'জ', 'ঝ'],\n",
    "                     'ট': ['ট', 'ব'],\n",
    "                     'ড': ['ড'],\n",
    "                     'ণ': ['ট', 'ঠ', 'ড', 'ঢ', 'ণ', 'ব', 'ম'],\n",
    "                     'ত': ['ত', 'থ', 'ন', 'ব', 'ম', 'র'],\n",
    "                     'থ': ['ব'],\n",
    "                     'দ': ['গ', 'ঘ', 'দ', 'ধ', 'ব', 'ভ', 'ম'],\n",
    "                     'ধ': ['ন', 'ব'],\n",
    "                     'ন': ['জ', 'ট', 'ঠ', 'ড', 'ত', 'থ', 'দ', 'ধ', 'ন', 'ব', 'ম', 'স'],\n",
    "                     'প': ['ট', 'ত', 'ন', 'প', 'ল', 'স'],\n",
    "                     'ফ': ['ট', 'ল'],\n",
    "                     'ব': ['জ', 'দ', 'ধ', 'ব', 'ভ', 'ল'],\n",
    "                     'ভ': ['র'],\n",
    "                     'ম': ['ন', 'প', 'ফ', 'ব', 'ভ', 'ম', 'ল'],\n",
    "                     'ল': ['ক', 'গ', 'ট', 'ড', 'প', 'ফ', 'ব', 'ম', 'ল', 'স'],\n",
    "                     'শ': ['চ', 'ছ', 'ত', 'ন', 'ব', 'ম', 'ল'],\n",
    "                     'ষ': ['ক', 'ট', 'ঠ', 'ণ', 'প', 'ফ', 'ব', 'ম'],\n",
    "                     'স': ['ক', 'খ', 'ট', 'ত', 'থ', 'ন', 'প', 'ফ', 'ব', 'ম', 'ল'],\n",
    "                     'হ': ['ণ', 'ন', 'ব', 'ম', 'ল'],\n",
    "                     'ড়': ['গ']}\n",
    "    \n",
    "    forms_tripple_cluster = {'ক্ষ': ['ণ', 'ম'], 'ঙ্ক': ['ষ'], 'চ্ছ': ['ব'], 'জ্জ': ['ব'],\n",
    "                             'ত্ত': ['ব'], 'দ্দ': ['ব'], 'দ্ধ': ['ব'], 'দ্ভ': ['র'],\n",
    "                             'ন্ত': ['ব'], 'ন্দ': ['ব'], 'ম্প': ['ল'], 'ম্ভ': ['র'],\n",
    "                             'ষ্ক': ['র'], 'স্ক': ['র'], 'স্ত': ['ব', 'র'], 'স্প': ['ল']}\n",
    "    \n",
    "    chars = []\n",
    "    i = 0\n",
    "    adjust = 0\n",
    "    \n",
    "    while(i < len(word)):\n",
    "        if i+1 < len(word) and word[i+1] == '্':\n",
    "            if word[i] == 'র':\n",
    "                chars.append('র্')\n",
    "                adjust = 0\n",
    "                i+=2\n",
    "            elif i+2 < len(word) and word[i+2] == 'য':\n",
    "                chars.append(word[i-adjust:i+1])\n",
    "                chars.append('্য')\n",
    "                adjust = 0\n",
    "                i+=3\n",
    "            elif i+2 < len(word) and word[i+2] == 'র':\n",
    "                # Treat '্র' as a seperate grapheme\n",
    "                chars.append(word[i-adjust:i+1])\n",
    "                chars.append('্র')\n",
    "                # Keep '্র' icluded in the cluster\n",
    "                # chars.append(word[i-adjust:i+3])\n",
    "                if i+3 < len(word) and word[i+3] == '্' and i+4 < len(word) and word[i+4] == 'য':    \n",
    "                    chars.append('্য')\n",
    "                    i+=5\n",
    "                else:\n",
    "                    i+=3\n",
    "                adjust = 0\n",
    "            elif i+2 < len(word) and adjust!=0 and word[i-adjust:i+1] in forms_tripple_cluster \\\n",
    "                and word[i+2] in forms_tripple_cluster[word[i-adjust:i+1]]:\n",
    "                if i+3 < len(word) and word[i+3] == '্':\n",
    "                    adjust += 2\n",
    "                    i+=2\n",
    "                else:\n",
    "                    chars.append(word[i-adjust:i+3])\n",
    "                    adjust = 0\n",
    "                    i+=3\n",
    "            elif i+2 < len(word) and adjust==0 and word[i] in forms_cluster and word[i+2] in forms_cluster[word[i]]:\n",
    "                if i+3 < len(word) and word[i+3] == '্':\n",
    "                    adjust += 2\n",
    "                    i+=2\n",
    "                else:\n",
    "                    chars.append(word[i-adjust:i+3])\n",
    "                    adjust = 0\n",
    "                    i+=3\n",
    "            else:\n",
    "                chars.append(word[i-adjust:i+1])\n",
    "                chars.append('্')\n",
    "                adjust = 0\n",
    "                i+=2\n",
    "\n",
    "        else:\n",
    "            chars.append(word[i:i+1])\n",
    "            i+=1\n",
    "\n",
    "    \n",
    "    #print(word)\n",
    "    #print(chars)\n",
    "\n",
    "    return chars"
   ]
  },
  {
   "cell_type": "code",
   "execution_count": 107,
   "metadata": {},
   "outputs": [],
   "source": [
    "bnhtrd = BnhtrdWordDataset(BNHTRD_DATASET)\n",
    "label_dict = bnhtrd.label_dict"
   ]
  },
  {
   "cell_type": "code",
   "execution_count": 108,
   "metadata": {},
   "outputs": [
    {
     "name": "stdout",
     "output_type": "stream",
     "text": [
      "{'ণ্ঠ', 'ূ', 'ক্ত', 'আ', 'ব্ল', 'গ্ধ', 'ত্থ', 'া', 'প্ল', 'দ্ম', 'স্ল', 'f', 'ৈ', 'ম্ন', 'ক্ক', 'ণ্ট', 'ঋ', 'গ', 'ত', '—', '•', 'ঙ্খ', 'b', 'ড', 'জ্ব', 'ক', 'k', 'ঙ্ক্ষ', '্', '7', 'ক্ষ', '·', 'ত্ম', 'J', 'হ্ণ', 'গ্ল', 'K', 'A', 'ষ্ক', 'g', 'F', 'ত্ত', 'ধ', '[', 'প্প', 'ড়', 'ষ্ট', 'O', 'ঞ্জ', 'ত্ন', 'ম্ল', 'M', '“', '8', 'ন', '২', 'ক্ন', 'ঃ', 'শ্ব', 'শ্চ', 'ঢ', 'স্ব', 'U', '৮', 'ল্ল', '\\u200c', 'ড্ড', 'D', 'স্ন', 'হ্ব', 'S', 'ষ্ণ', 'ম্ম', '&', 'চ', 'ল্প', 'ধ্ব', 'd', 'ৌ', 'স্থ', '©', '\\u200d', 'ল্ফ', 't', 'ন্ড', 'w', 'উ', 'ঢ়', 'ক্ল', '@', 'হ্ন', 'ন্ন', 'স্ম', 'ট্ট', 'স্ত', 'ল্ড', 'ু', 'ব্ধ', '|', 'ন্স', 'প', 'ষ্প', 'R', 'P', 'ভ', '–', '+', ']', 'ল্ট', 'ণ', 'ছ', 'ক্স', 'ে', 'ন্ব', 'ঈ', 'ঊ', 'ত্ব', '1', 'জ', 'ী', 'I', 'খ', '5', 'ণ্ড', 'ফ্ল', 'ং', 'ঘ্ন', 'প্ত', ',', 'দ্ভ', ':', 'স্প', 'H', 'z', 'ও', 'N', 'ৎ', 'C', 'ঙ্গ', 'm', '3', 'ম্ভ', 'ষ্ম', 'হ্ম', '”', 'ঠ', 'স্ট', 'G', 'ণ্ণ', 'অ', 'ন্ম', 'B', '?', 'ঘ', 'ন্দ্ব', 'জ্জ', 'ঙ', 'ব', '৭', 'ম্ব', '/', 'ি', 'ো', 'শ্ল', 'প্ন', 'শ্ম', 'Q', '*', 'ষ্ঠ', '\"', 'a', '৪', 'ক্ষ্ম', 'দ', '১', 'ব্দ', 'ঔ', 'ন্ত', 'X', 'র', 'y', 'ঝ', 'স্ক', 'জ্ঞ', 'ঙ্ক', 'ম্ফ', \"'\", 'স্ফ', 'শ', 'ৃ', '%', '\\n', '4', 'e', 'চ্চ', 'l', 'c', 'ট', 'দ্ধ', 'u', 's', 'Z', 'v', '’', 'ন্ট', 'o', 'i', '0', 'গ্ম', '।', 'ল', 'ন্থ', ';', 'ক্ষ্ণ', 'হ', 'n', 'য', 'জ্জ্ব', 'র্', 'দ্ব', '.', '_', 'p', 'ঞ্চ', '‘', 'ত্ত্ব', 'ব্ব', '্য', 'স', '6', '৬', 'দ্দ', 'য়', 'r', 'থ', '৩', 'x', '৯', 'Y', 'ঐ', 'চ্ছ', '৫', 'চ্ছ্ব', 'শ্ন', '2', 'ষ', ')', '০', ' ', 'ঁ', 'W', 'T', 'প্ট', 'V', '-', 'ঞ', 'L', 'ম্প', 'ম', '!', 'গ্ন', 'ই', 'ল্ক', 'ফ', '#', 'ন্ধ', 'ব্জ', '9', 'E', '্র', 'ক্ট', 'h', '(', 'ন্দ', 'এ'}\n",
      "275\n"
     ]
    }
   ],
   "source": [
    "grapheme_set = set()\n",
    "\n",
    "for file_name, label in label_dict.items():\n",
    "    # print(label, type(label))\n",
    "    graphemes_in_label = extract_graphemes(normalize_word(label))\n",
    "    grapheme_set = grapheme_set.union(graphemes_in_label)\n",
    "    \n",
    "print(grapheme_set)\n",
    "print(len(grapheme_set))"
   ]
  },
  {
   "cell_type": "code",
   "execution_count": 109,
   "metadata": {},
   "outputs": [
    {
     "name": "stdout",
     "output_type": "stream",
     "text": [
      "[('া', 50414), (' ', 48871), ('ে', 44887), ('র', 32625), ('ি', 28282), ('ন', 22238), ('ক', 20532), ('ব', 18634), ('ত', 13679), ('স', 13004), ('ল', 12866), ('ম', 11367), ('য়', 9981), ('প', 9802), ('দ', 8488), ('ু', 8141), ('ো', 6816), ('হ', 6790), ('।', 6060), ('ই', 6040), ('শ', 5909), ('ট', 5807), ('্র', 5634), ('জ', 5621), ('্য', 5513), ('এ', 5263), ('ছ', 5195), ('আ', 4904), ('গ', 4495), ('ী', 4355), ('ভ', 4185), ('র্', 3999), ('য', 3630), ('ং', 3302), ('চ', 3286), (',', 3276), ('খ', 3125), ('ও', 2975), ('থ', 2821), ('অ', 2628), ('ধ', 2331), ('উ', 1875), ('ণ', 1871), ('ড়', 1661), ('ফ', 1514), ('ষ', 1466), ('ন্ত', 1419), ('ক্ষ', 1390), ('-', 1242), ('ড', 1204), ('1', 977), ('0', 932), ('\"', 912), ('স্থ', 819), ('ৃ', 803), ('2', 799), ('ূ', 745), ('ঠ', 689), ('শ্ব', 669), ('ঁ', 594), ('ক্ত', 592), ('ন্দ', 576), ('চ্ছ', 563), ('ঘ', 554), (\"'\", 549), ('ৈ', 498), ('ষ্ট', 490), ('স্ট', 488), ('ৎ', 486), ('স্ত', 480), ('ঙ্গ', 457), (':', 452), ('স্ব', 437), ('দ্ধ', 418), ('9', 418), ('ম্প', 394), ('?', 393), ('ন্ড', 382), ('e', 371), ('ন্ট', 371), ('5', 313), ('ষ্ঠ', 285), ('.', 265), ('8', 260), ('4', 259), ('t', 253), ('ত্ব', 253), ('ৌ', 245), ('জ্ঞ', 243), ('s', 241), ('3', 240), ('B', 239), ('ন্ন', 237), ('ত্ত', 220), ('স্ক', 216), ('ন্ধ', 212), ('১', 210), ('7', 208), ('ঝ', 205), ('6', 205), ('ম্ব', 178), ('ল্প', 173), ('a', 168), ('দ্ব', 163), ('ঢ', 161), ('স্প', 160), ('ন্স', 154), ('I', 154), ('২', 153), ('N', 153), ('C', 138), ('ল্ল', 137), ('w', 131), ('দ্দ', 126), ('ম্ভ', 124), ('চ্চ', 119), ('ঙ্ক', 116), ('ঞ্জ', 107), ('শ্চ', 100), ('y', 100), ('শ্ন', 96), ('g', 95), ('ক্স', 95), ('m', 95), ('n', 95), ('(', 95), ('ঙ', 94), (')', 94), ('G', 92), ('ম্ম', 91), ('ট্ট', 91), ('প্ত', 91), ('A', 86), ('ত্ম', 83), ('o', 82), ('০', 81), ('ঞ্চ', 79), ('ঐ', 78), ('“', 71), ('r', 70), ('ণ্ড', 69), ('i', 69), ('ফ্ল', 64), ('ম্ন', 59), ('h', 56), ('ব্ব', 55), ('ক্ল', 54), ('ষ্ক', 53), ('৯', 53), ('©', 51), ('৫', 50), ('৬', 49), ('S', 48), ('R', 48), ('প্ল', 46), ('ল্ড', 46), ('ন্ম', 46), ('৩', 46), ('ঃ', 45), ('\\n', 45), ('l', 45), ('শ্ল', 43), ('ব্ল', 42), ('D', 41), ('u', 41), ('জ্জ', 40), ('৪', 39), ('ঔ', 39), ('ক্ট', 39), ('T', 38), ('৮', 37), ('ত্ত্ব', 36), ('‘', 35), ('জ্ব', 34), ('O', 34), ('•', 33), ('ধ্ব', 33), ('৭', 33), ('H', 32), ('ব্দ', 32), ('E', 32), ('K', 30), ('\\u200d', 30), ('’', 30), ('ষ্ণ', 29), ('ল্ট', 27), ('p', 27), ('M', 26), ('d', 26), ('ন্থ', 26), ('স্ম', 24), ('P', 24), ('c', 24), ('গ্ল', 23), ('|', 23), ('ত্থ', 21), ('ণ্ট', 21), ('ঈ', 21), ('দ্ভ', 21), ('ন্দ্ব', 21), ('ক্ক', 20), ('্', 20), ('গ্ন', 20), ('U', 18), ('ন্ব', 18), ('/', 18), ('f', 17), ('ঙ্খ', 17), ('Y', 17), ('W', 17), ('L', 17), ('ঋ', 15), ('F', 15), ('ক্ষ্ম', 14), ('প্ট', 14), ('Z', 13), ('ত্ন', 12), ('\\u200c', 12), ('হ্ব', 12), ('%', 12), ('b', 11), ('k', 10), ('!', 10), ('স্ল', 9), ('ঙ্ক্ষ', 9), ('হ্ন', 9), ('”', 9), ('–', 8), ('ঊ', 8), ('v', 8), ('স্ন', 7), ('ঢ়', 7), ('ব্ধ', 7), ('ড্ড', 6), ('প্ন', 6), ('V', 6), ('#', 6), ('ণ্ঠ', 5), ('দ্ম', 5), ('ষ্ম', 5), ('J', 4), ('ষ্প', 4), ('ঘ্ন', 4), ('গ্ধ', 3), ('—', 3), ('প্প', 3), ('&', 3), ('ল্ফ', 3), ('X', 3), ('স্ফ', 3), ('গ্ম', 3), (';', 3), ('x', 3), ('·', 2), ('হ্ণ', 2), ('[', 2), ('ম্ল', 2), ('@', 2), ('+', 2), (']', 2), ('শ্ম', 2), ('*', 2), ('ক্ষ্ণ', 2), ('জ্জ্ব', 2), ('_', 2), ('ল্ক', 2), ('ক্ন', 1), ('z', 1), ('হ্ম', 1), ('ণ্ণ', 1), ('Q', 1), ('ম্ফ', 1), ('চ্ছ্ব', 1), ('ঞ', 1), ('ব্জ', 1)]\n"
     ]
    }
   ],
   "source": [
    "graphemes_count_dict = {k:0 for k in grapheme_set}\n",
    "\n",
    "for file_name, label in label_dict.items():\n",
    "    # print(label, type(label))\n",
    "    graphemes_in_label = extract_graphemes(normalize_word(label))\n",
    "    for grapheme in graphemes_in_label:\n",
    "        graphemes_count_dict[grapheme] += 1\n",
    "        \n",
    "graphemes_count_dict\n",
    "\n",
    "print(sorted([(k,v) for k,v in graphemes_count_dict.items()], key=lambda x: x[1], reverse=True))"
   ]
  },
  {
   "cell_type": "code",
   "execution_count": 114,
   "metadata": {},
   "outputs": [
    {
     "name": "stdout",
     "output_type": "stream",
     "text": [
      "{'ণ্ঠ', 'ূ', 'ক্ত', 'আ', 'ব্ল', 'গ্ধ', 'ত্থ', 'া', 'প্ল', 'দ্ম', 'স্ল', 'ৈ', 'ম্ন', 'ক্ক', 'ণ্ট', 'ঋ', 'গ', 'ত', '—', '•', 'ঙ্খ', 'ড', 'জ্ব', 'ক', 'ঙ্ক্ষ', '্', 'ক্ষ', '·', 'ত্ম', 'হ্ণ', 'গ্ল', 'ষ্ক', 'ত্ত', 'ধ', '[', 'প্প', 'ড়', 'ষ্ট', 'ঞ্জ', 'ত্ন', 'ম্ল', '“', 'ন', '২', 'ক্ন', 'ঃ', 'শ্ব', 'শ্চ', 'ঢ', 'স্ব', '৮', 'ল্ল', 'ড্ড', 'স্ন', 'হ্ব', 'ষ্ণ', 'ম্ম', '&', 'চ', 'ল্প', 'ধ্ব', 'ৌ', 'স্থ', '\\u200d', 'ল্ফ', 'ন্ড', 'উ', 'ঢ়', 'ক্ল', '@', 'হ্ন', 'ন্ন', 'স্ম', 'ট্ট', 'স্ত', 'ল্ড', 'ু', 'ব্ধ', '|', 'ন্স', 'প', 'ষ্প', 'ভ', '–', '+', ']', 'ল্ট', 'ণ', 'ছ', 'ক্স', 'ে', 'ন্ব', 'ঈ', 'ঊ', 'ত্ব', 'জ', 'ী', 'খ', 'ণ্ড', 'ফ্ল', 'ং', 'ঘ্ন', 'প্ত', ',', 'দ্ভ', ':', 'স্প', 'ও', 'ৎ', 'ঙ্গ', 'ম্ভ', 'ষ্ম', 'হ্ম', '”', 'ঠ', 'স্ট', 'ণ্ণ', 'অ', 'ন্ম', '?', 'ঘ', 'ন্দ্ব', 'জ্জ', 'ঙ', 'ব', '৭', 'ম্ব', '/', 'ি', 'ো', 'শ্ল', 'প্ন', 'শ্ম', '*', 'ষ্ঠ', '\"', '৪', 'ক্ষ্ম', 'দ', '১', 'ব্দ', 'ঔ', 'ন্ত', 'র', 'ঝ', 'স্ক', 'জ্ঞ', 'ঙ্ক', 'ম্ফ', \"'\", 'স্ফ', 'শ', 'ৃ', '%', 'চ্চ', 'ট', 'দ্ধ', '’', 'ন্ট', 'গ্ম', '।', 'ল', 'ন্থ', ';', 'ক্ষ্ণ', 'হ', 'য', 'জ্জ্ব', 'র্', 'দ্ব', '.', '_', 'ঞ্চ', '‘', 'ত্ত্ব', 'ব্ব', '্য', 'স', '৬', 'দ্দ', 'য়', 'থ', '৩', '৯', 'ঐ', 'চ্ছ', '৫', 'চ্ছ্ব', 'শ্ন', 'ষ', ')', '০', 'ঁ', 'প্ট', '-', 'ঞ', 'ম্প', 'ম', '!', 'গ্ন', 'ই', 'ল্ক', 'ফ', '#', 'ন্ধ', 'ব্জ', '্র', 'ক্ট', '(', 'ন্দ', 'এ'}\n",
      "211\n"
     ]
    }
   ],
   "source": [
    "EXCLUDE_CLASSES = \"ABCDEFGHIJKLMNOPQRSTUVWXYZabcdefghijklmnopqrstuvwxyz0123456789\\u200d\\u200c\\n ©\"\n",
    "\n",
    "after_exclusion = grapheme_set.difference(EXCLUDE_CLASSES)\n",
    "print(after_exclusion)\n",
    "print(len(after_exclusion))"
   ]
  },
  {
   "cell_type": "code",
   "execution_count": 86,
   "metadata": {},
   "outputs": [
    {
     "name": "stdout",
     "output_type": "stream",
     "text": [
      "['অ', 'ব', 'স্থ', 'া', ' ', '\\n']\n"
     ]
    }
   ],
   "source": [
    "for file_name, label in label_dict.items():\n",
    "    graphemes_in_label = extract_graphemes(normalize_word(label))\n",
    "    if \"\\n\" in graphemes_in_label:\n",
    "        print(graphemes_in_label)\n",
    "        break"
   ]
  },
  {
   "cell_type": "code",
   "execution_count": 113,
   "metadata": {},
   "outputs": [
    {
     "data": {
      "text/plain": [
       "False"
      ]
     },
     "execution_count": 113,
     "metadata": {},
     "output_type": "execute_result"
    }
   ],
   "source": [
    "\"০\"==\"O\""
   ]
  },
  {
   "cell_type": "code",
   "execution_count": null,
   "metadata": {},
   "outputs": [],
   "source": []
  }
 ],
 "metadata": {
  "kernelspec": {
   "display_name": "Python 3",
   "language": "python",
   "name": "python3"
  },
  "language_info": {
   "codemirror_mode": {
    "name": "ipython",
    "version": 3
   },
   "file_extension": ".py",
   "mimetype": "text/x-python",
   "name": "python",
   "nbconvert_exporter": "python",
   "pygments_lexer": "ipython3",
   "version": "3.7.10 (default, Jun  3 2021, 00:02:01) \n[GCC 7.3.1 20180712 (Red Hat 7.3.1-13)]"
  },
  "vscode": {
   "interpreter": {
    "hash": "916dbcbb3f70747c44a77c7bcd40155683ae19c65e1c03b4aa3499c5328201f1"
   }
  }
 },
 "nbformat": 4,
 "nbformat_minor": 4
}
